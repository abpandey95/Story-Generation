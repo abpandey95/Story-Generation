{
  "nbformat": 4,
  "nbformat_minor": 0,
  "metadata": {
    "colab": {
      "provenance": []
    },
    "kernelspec": {
      "name": "python3",
      "display_name": "Python 3"
    },
    "language_info": {
      "name": "python"
    },
    "accelerator": "GPU"
  },
  "cells": [
    {
      "cell_type": "code",
      "execution_count": null,
      "metadata": {
        "id": "tC4vnOZI8yow"
      },
      "outputs": [],
      "source": [
        "    from tensorflow.keras.preprocessing.sequence import pad_sequences\n",
        "    from tensorflow.keras.layers import Embedding, LSTM, Dense, Dropout, Bidirectional, RNN, SimpleRNN, GRU\n",
        "    from tensorflow.keras.preprocessing.text import Tokenizer\n",
        "    from tensorflow.keras.models import Sequential\n",
        "    from tensorflow.keras.optimizers import Adam\n",
        "    from tensorflow.keras import regularizers\n",
        "    import tensorflow.keras.utils as ku\n",
        "    import numpy as np"
      ]
    },
    {
      "cell_type": "code",
      "source": [
        "# from google.colab import drive\n",
        "# drive.mount('/content/drive')"
      ],
      "metadata": {
        "id": "L8yOzeOizmvA"
      },
      "execution_count": null,
      "outputs": []
    },
    {
      "cell_type": "code",
      "source": [
        "tokenizer = Tokenizer()\n",
        "data = open('/content/wonderland.txt').read()\n",
        "corpus = data.lower().split(\"\\n\")\n",
        "tokenizer.fit_on_texts(corpus)\n",
        "total_words = len(tokenizer.word_index) + 1"
      ],
      "metadata": {
        "id": "ti5hDrfi9Amm"
      },
      "execution_count": null,
      "outputs": []
    },
    {
      "cell_type": "code",
      "source": [
        "# create input sequences using list of tokens\n",
        "input_sequences = []\n",
        "for line in corpus:\n",
        "    token_list = tokenizer.texts_to_sequences([line])[0]\n",
        "    for i in range(1, len(token_list)):\n",
        "        n_gram_sequence = token_list[:i+1]\n",
        "        input_sequences.append(n_gram_sequence)"
      ],
      "metadata": {
        "id": "_vviV0yG9DZc"
      },
      "execution_count": null,
      "outputs": []
    },
    {
      "cell_type": "code",
      "source": [
        "# pad sequences\n",
        "max_sequence_len = max([len(x) for x in input_sequences])\n",
        "input_sequences = np.array(pad_sequences(input_sequences, maxlen=max_sequence_len, padding='pre'))"
      ],
      "metadata": {
        "id": "gdicB6e_9E5X"
      },
      "execution_count": null,
      "outputs": []
    },
    {
      "cell_type": "code",
      "source": [
        "# create predictors and label\n",
        "predictors, label = input_sequences[:,:-1],input_sequences[:,-1]\n",
        "\n",
        "label = ku.to_categorical(label, num_classes=total_words)"
      ],
      "metadata": {
        "id": "R0z18jpg9Gc2"
      },
      "execution_count": null,
      "outputs": []
    },
    {
      "cell_type": "code",
      "source": [],
      "metadata": {
        "id": "JyUGJ72I9H0Y"
      },
      "execution_count": null,
      "outputs": []
    },
    {
      "cell_type": "code",
      "source": [
        "model = Sequential()\n",
        "model.add(Embedding(total_words, 580, input_length=max_sequence_len-1))\n",
        "model.add(LSTM(250, return_sequences = True))\n",
        "model.add(Dropout(0.2))\n",
        "model.add(LSTM(180))\n",
        "model.add(Dense(total_words/2, activation='relu', kernel_regularizer=regularizers.l2(0.01)))\n",
        "model.add(Dense(total_words, activation='softmax'))\n",
        "model.compile(loss='categorical_crossentropy', optimizer='adam', metrics=['accuracy'])\n",
        "print(model.summary())"
      ],
      "metadata": {
        "id": "Yh2YwE_XHdtr",
        "colab": {
          "base_uri": "https://localhost:8080/"
        },
        "outputId": "3641f7f0-9af4-4c58-e9e8-dddb930e4b76"
      },
      "execution_count": null,
      "outputs": [
        {
          "output_type": "stream",
          "name": "stdout",
          "text": [
            "Model: \"sequential\"\n",
            "_________________________________________________________________\n",
            " Layer (type)                Output Shape              Param #   \n",
            "=================================================================\n",
            " embedding (Embedding)       (None, 17, 580)           1362420   \n",
            "                                                                 \n",
            " lstm (LSTM)                 (None, 17, 250)           831000    \n",
            "                                                                 \n",
            " dropout (Dropout)           (None, 17, 250)           0         \n",
            "                                                                 \n",
            " lstm_1 (LSTM)               (None, 180)               310320    \n",
            "                                                                 \n",
            " dense (Dense)               (None, 1174)              212494    \n",
            "                                                                 \n",
            " dense_1 (Dense)             (None, 2349)              2760075   \n",
            "                                                                 \n",
            "=================================================================\n",
            "Total params: 5,476,309\n",
            "Trainable params: 5,476,309\n",
            "Non-trainable params: 0\n",
            "_________________________________________________________________\n",
            "None\n"
          ]
        }
      ]
    },
    {
      "cell_type": "code",
      "source": [
        "# 183/183 [==============================] - 63s 346ms/step - loss: 0.9149 - accuracy: 0.8683\n",
        "# history_LSTM = model.fit(predictors, label, epochs=40, validation_split=0.15, verbose=1)\n",
        "history_LSTM = model.fit(predictors, label, epochs=80, verbose=1)\n",
        "# history = model.fit(predictors, label, epochs=80,  verbose=1)\n"
      ],
      "metadata": {
        "id": "7IrKLVlZIkLh",
        "colab": {
          "base_uri": "https://localhost:8080/"
        },
        "outputId": "6e352cd8-aa00-44d5-9a96-27118c78c920"
      },
      "execution_count": null,
      "outputs": [
        {
          "output_type": "stream",
          "name": "stdout",
          "text": [
            "Epoch 1/80\n",
            "544/544 [==============================] - 28s 35ms/step - loss: 6.3427 - accuracy: 0.0501\n",
            "Epoch 2/80\n",
            "544/544 [==============================] - 6s 11ms/step - loss: 5.8668 - accuracy: 0.0513\n",
            "Epoch 3/80\n",
            "544/544 [==============================] - 5s 8ms/step - loss: 5.7196 - accuracy: 0.0558\n",
            "Epoch 4/80\n",
            "544/544 [==============================] - 5s 10ms/step - loss: 5.5606 - accuracy: 0.0768\n",
            "Epoch 5/80\n",
            "544/544 [==============================] - 5s 8ms/step - loss: 5.4066 - accuracy: 0.0944\n",
            "Epoch 6/80\n",
            "544/544 [==============================] - 5s 9ms/step - loss: 5.2667 - accuracy: 0.1019\n",
            "Epoch 7/80\n",
            "544/544 [==============================] - 6s 10ms/step - loss: 5.1464 - accuracy: 0.1057\n",
            "Epoch 8/80\n",
            "544/544 [==============================] - 5s 9ms/step - loss: 5.0332 - accuracy: 0.1151\n",
            "Epoch 9/80\n",
            "544/544 [==============================] - 5s 9ms/step - loss: 4.9242 - accuracy: 0.1238\n",
            "Epoch 10/80\n",
            "544/544 [==============================] - 5s 9ms/step - loss: 4.8113 - accuracy: 0.1374\n",
            "Epoch 11/80\n",
            "544/544 [==============================] - 5s 9ms/step - loss: 4.7101 - accuracy: 0.1465\n",
            "Epoch 12/80\n",
            "544/544 [==============================] - 5s 9ms/step - loss: 4.6095 - accuracy: 0.1572\n",
            "Epoch 13/80\n",
            "544/544 [==============================] - 4s 8ms/step - loss: 4.5184 - accuracy: 0.1661\n",
            "Epoch 14/80\n",
            "544/544 [==============================] - 5s 9ms/step - loss: 4.4277 - accuracy: 0.1752\n",
            "Epoch 15/80\n",
            "544/544 [==============================] - 5s 8ms/step - loss: 4.3461 - accuracy: 0.1841\n",
            "Epoch 16/80\n",
            "544/544 [==============================] - 5s 8ms/step - loss: 4.2657 - accuracy: 0.1913\n",
            "Epoch 17/80\n",
            "544/544 [==============================] - 5s 9ms/step - loss: 4.1845 - accuracy: 0.2000\n",
            "Epoch 18/80\n",
            "544/544 [==============================] - 4s 8ms/step - loss: 4.1101 - accuracy: 0.2050\n",
            "Epoch 19/80\n",
            "544/544 [==============================] - 5s 9ms/step - loss: 4.0313 - accuracy: 0.2141\n",
            "Epoch 20/80\n",
            "544/544 [==============================] - 5s 9ms/step - loss: 3.9605 - accuracy: 0.2205\n",
            "Epoch 21/80\n",
            "544/544 [==============================] - 4s 8ms/step - loss: 3.8898 - accuracy: 0.2303\n",
            "Epoch 22/80\n",
            "544/544 [==============================] - 5s 9ms/step - loss: 3.8159 - accuracy: 0.2374\n",
            "Epoch 23/80\n",
            "544/544 [==============================] - 4s 8ms/step - loss: 3.7499 - accuracy: 0.2432\n",
            "Epoch 24/80\n",
            "544/544 [==============================] - 4s 8ms/step - loss: 3.6775 - accuracy: 0.2516\n",
            "Epoch 25/80\n",
            "544/544 [==============================] - 5s 10ms/step - loss: 3.6048 - accuracy: 0.2614\n",
            "Epoch 26/80\n",
            "544/544 [==============================] - 4s 8ms/step - loss: 3.5408 - accuracy: 0.2690\n",
            "Epoch 27/80\n",
            "544/544 [==============================] - 5s 9ms/step - loss: 3.4858 - accuracy: 0.2790\n",
            "Epoch 28/80\n",
            "544/544 [==============================] - 4s 8ms/step - loss: 3.4082 - accuracy: 0.2884\n",
            "Epoch 29/80\n",
            "544/544 [==============================] - 5s 9ms/step - loss: 3.3427 - accuracy: 0.2969\n",
            "Epoch 30/80\n",
            "544/544 [==============================] - 5s 9ms/step - loss: 3.2782 - accuracy: 0.3073\n",
            "Epoch 31/80\n",
            "544/544 [==============================] - 4s 7ms/step - loss: 3.2069 - accuracy: 0.3183\n",
            "Epoch 32/80\n",
            "544/544 [==============================] - 4s 8ms/step - loss: 3.1475 - accuracy: 0.3299\n",
            "Epoch 33/80\n",
            "544/544 [==============================] - 5s 9ms/step - loss: 3.0871 - accuracy: 0.3404\n",
            "Epoch 34/80\n",
            "544/544 [==============================] - 4s 8ms/step - loss: 3.0205 - accuracy: 0.3520\n",
            "Epoch 35/80\n",
            "544/544 [==============================] - 5s 9ms/step - loss: 2.9556 - accuracy: 0.3655\n",
            "Epoch 36/80\n",
            "544/544 [==============================] - 4s 8ms/step - loss: 2.8956 - accuracy: 0.3759\n",
            "Epoch 37/80\n",
            "544/544 [==============================] - 4s 8ms/step - loss: 2.8356 - accuracy: 0.3876\n",
            "Epoch 38/80\n",
            "544/544 [==============================] - 5s 10ms/step - loss: 2.7727 - accuracy: 0.4003\n",
            "Epoch 39/80\n",
            "544/544 [==============================] - 4s 8ms/step - loss: 2.7237 - accuracy: 0.4089\n",
            "Epoch 40/80\n",
            "544/544 [==============================] - 4s 8ms/step - loss: 2.6652 - accuracy: 0.4260\n",
            "Epoch 41/80\n",
            "544/544 [==============================] - 5s 9ms/step - loss: 2.6050 - accuracy: 0.4334\n",
            "Epoch 42/80\n",
            "544/544 [==============================] - 4s 8ms/step - loss: 2.5532 - accuracy: 0.4459\n",
            "Epoch 43/80\n",
            "544/544 [==============================] - 5s 9ms/step - loss: 2.5047 - accuracy: 0.4576\n",
            "Epoch 44/80\n",
            "544/544 [==============================] - 5s 9ms/step - loss: 2.4455 - accuracy: 0.4698\n",
            "Epoch 45/80\n",
            "544/544 [==============================] - 4s 8ms/step - loss: 2.3950 - accuracy: 0.4837\n",
            "Epoch 46/80\n",
            "544/544 [==============================] - 5s 9ms/step - loss: 2.3496 - accuracy: 0.4967\n",
            "Epoch 47/80\n",
            "544/544 [==============================] - 4s 8ms/step - loss: 2.2981 - accuracy: 0.5047\n",
            "Epoch 48/80\n",
            "544/544 [==============================] - 4s 8ms/step - loss: 2.2594 - accuracy: 0.5134\n",
            "Epoch 49/80\n",
            "544/544 [==============================] - 5s 9ms/step - loss: 2.2035 - accuracy: 0.5291\n",
            "Epoch 50/80\n",
            "544/544 [==============================] - 4s 8ms/step - loss: 2.1663 - accuracy: 0.5383\n",
            "Epoch 51/80\n",
            "544/544 [==============================] - 4s 8ms/step - loss: 2.1300 - accuracy: 0.5437\n",
            "Epoch 52/80\n",
            "544/544 [==============================] - 5s 9ms/step - loss: 2.0663 - accuracy: 0.5627\n",
            "Epoch 53/80\n",
            "544/544 [==============================] - 4s 8ms/step - loss: 2.0290 - accuracy: 0.5706\n",
            "Epoch 54/80\n",
            "544/544 [==============================] - 4s 8ms/step - loss: 1.9897 - accuracy: 0.5808\n",
            "Epoch 55/80\n",
            "544/544 [==============================] - 5s 9ms/step - loss: 1.9638 - accuracy: 0.5889\n",
            "Epoch 56/80\n",
            "544/544 [==============================] - 4s 8ms/step - loss: 1.9094 - accuracy: 0.6009\n",
            "Epoch 57/80\n",
            "544/544 [==============================] - 5s 9ms/step - loss: 1.8729 - accuracy: 0.6101\n",
            "Epoch 58/80\n",
            "544/544 [==============================] - 4s 8ms/step - loss: 1.8296 - accuracy: 0.6188\n",
            "Epoch 59/80\n",
            "544/544 [==============================] - 5s 8ms/step - loss: 1.7991 - accuracy: 0.6257\n",
            "Epoch 60/80\n",
            "544/544 [==============================] - 5s 9ms/step - loss: 1.7630 - accuracy: 0.6358\n",
            "Epoch 61/80\n",
            "544/544 [==============================] - 4s 8ms/step - loss: 1.7291 - accuracy: 0.6473\n",
            "Epoch 62/80\n",
            "544/544 [==============================] - 5s 8ms/step - loss: 1.6977 - accuracy: 0.6514\n",
            "Epoch 63/80\n",
            "544/544 [==============================] - 5s 9ms/step - loss: 1.6594 - accuracy: 0.6605\n",
            "Epoch 64/80\n",
            "544/544 [==============================] - 4s 8ms/step - loss: 1.6364 - accuracy: 0.6683\n",
            "Epoch 65/80\n",
            "544/544 [==============================] - 5s 9ms/step - loss: 1.6046 - accuracy: 0.6757\n",
            "Epoch 66/80\n",
            "544/544 [==============================] - 4s 8ms/step - loss: 1.5745 - accuracy: 0.6862\n",
            "Epoch 67/80\n",
            "544/544 [==============================] - 4s 8ms/step - loss: 1.5491 - accuracy: 0.6946\n",
            "Epoch 68/80\n",
            "544/544 [==============================] - 5s 9ms/step - loss: 1.5203 - accuracy: 0.6974\n",
            "Epoch 69/80\n",
            "544/544 [==============================] - 4s 8ms/step - loss: 1.4928 - accuracy: 0.7031\n",
            "Epoch 70/80\n",
            "544/544 [==============================] - 4s 8ms/step - loss: 1.4729 - accuracy: 0.7115\n",
            "Epoch 71/80\n",
            "544/544 [==============================] - 5s 9ms/step - loss: 1.4445 - accuracy: 0.7143\n",
            "Epoch 72/80\n",
            "544/544 [==============================] - 4s 8ms/step - loss: 1.4167 - accuracy: 0.7241\n",
            "Epoch 73/80\n",
            "544/544 [==============================] - 5s 10ms/step - loss: 1.3944 - accuracy: 0.7282\n",
            "Epoch 74/80\n",
            "544/544 [==============================] - 4s 8ms/step - loss: 1.3745 - accuracy: 0.7345\n",
            "Epoch 75/80\n",
            "544/544 [==============================] - 4s 8ms/step - loss: 1.3560 - accuracy: 0.7396\n",
            "Epoch 76/80\n",
            "544/544 [==============================] - 5s 9ms/step - loss: 1.3314 - accuracy: 0.7433\n",
            "Epoch 77/80\n",
            "544/544 [==============================] - 4s 8ms/step - loss: 1.3184 - accuracy: 0.7509\n",
            "Epoch 78/80\n",
            "544/544 [==============================] - 4s 8ms/step - loss: 1.3020 - accuracy: 0.7539\n",
            "Epoch 79/80\n",
            "544/544 [==============================] - 5s 9ms/step - loss: 1.2684 - accuracy: 0.7604\n",
            "Epoch 80/80\n",
            "544/544 [==============================] - 4s 8ms/step - loss: 1.2501 - accuracy: 0.7676\n"
          ]
        }
      ]
    },
    {
      "cell_type": "code",
      "source": [
        "import matplotlib.pyplot as plt\n",
        "acc = history_LSTM.history['accuracy']\n",
        "# loss = history.history['loss']\n",
        "epochs = range(len(acc))\n",
        "# plt.plot(epochs, acc, 'b', label='Training accuracy')\n",
        "plt.plot(epochs, acc, 'b', label='Training accuracy',color = \"green\")\n",
        "# plt.plot(epochs, loss, 'b', label='Training Loss',color = \"red\")\n",
        "\n",
        "plt.title('LSTM Training Accuracy')\n",
        "plt.xlabel(\" Epoch \")\n",
        "plt.ylabel(\" Accuracy \")\n",
        "plt.legend()\n",
        "\n",
        "plt.savefig('Accuracy_LSTM.png', format='png')\n",
        "plt.figure()\n",
        "\n"
      ],
      "metadata": {
        "id": "r2jG6-c6bSKI",
        "colab": {
          "base_uri": "https://localhost:8080/",
          "height": 561
        },
        "outputId": "4d909889-f208-496f-a7fb-353854ad85d9"
      },
      "execution_count": null,
      "outputs": [
        {
          "output_type": "stream",
          "name": "stderr",
          "text": [
            "<ipython-input-14-2e0bcd6ad080>:6: UserWarning: color is redundantly defined by the 'color' keyword argument and the fmt string \"b\" (-> color=(0.0, 0.0, 1.0, 1)). The keyword argument will take precedence.\n",
            "  plt.plot(epochs, acc, 'b', label='Training accuracy',color = \"green\")\n"
          ]
        },
        {
          "output_type": "execute_result",
          "data": {
            "text/plain": [
              "<Figure size 640x480 with 0 Axes>"
            ]
          },
          "metadata": {},
          "execution_count": 14
        },
        {
          "output_type": "display_data",
          "data": {
            "text/plain": [
              "<Figure size 640x480 with 1 Axes>"
            ],
            "image/png": "[encoded data removed]"
          },
          "metadata": {}
        },
        {
          "output_type": "display_data",
          "data": {
            "text/plain": [
              "<Figure size 640x480 with 0 Axes>"
            ]
          },
          "metadata": {}
        }
      ]
    },
    {
      "cell_type": "code",
      "source": [
        "import matplotlib.pyplot as plt\n",
        "# acc = history_LSTM.history['accuracy']\n",
        "loss = history_LSTM.history['loss']\n",
        "epochs = range(len(acc))\n",
        "# plt.plot(epochs, acc, 'b', label='Training accuracy')\n",
        "# plt.plot(epochs, acc, 'b', label='Training accuracy',color = \"green\")\n",
        "plt.plot(epochs, loss, 'b', label='Training Loss',color = \"red\")\n",
        "\n",
        "plt.title('LSTM Training Loss')\n",
        "plt.xlabel(\" Epoch \")\n",
        "plt.ylabel(\" Loss \")\n",
        "plt.legend()\n",
        "\n",
        "plt.savefig('Loss_LSTM.png', format='png')\n",
        "plt.figure()\n",
        "\n"
      ],
      "metadata": {
        "id": "nseS0384bb8A",
        "colab": {
          "base_uri": "https://localhost:8080/",
          "height": 561
        },
        "outputId": "50c857ec-000f-4ad6-f5e3-0d70b509472b"
      },
      "execution_count": null,
      "outputs": [
        {
          "output_type": "stream",
          "name": "stderr",
          "text": [
            "<ipython-input-15-79b8203887d3>:7: UserWarning: color is redundantly defined by the 'color' keyword argument and the fmt string \"b\" (-> color=(0.0, 0.0, 1.0, 1)). The keyword argument will take precedence.\n",
            "  plt.plot(epochs, loss, 'b', label='Training Loss',color = \"red\")\n"
          ]
        },
        {
          "output_type": "execute_result",
          "data": {
            "text/plain": [
              "<Figure size 640x480 with 0 Axes>"
            ]
          },
          "metadata": {},
          "execution_count": 15
        },
        {
          "output_type": "display_data",
          "data": {
            "text/plain": [
              "<Figure size 640x480 with 1 Axes>"
            ],
            "image/png": "[encoded data removed]"
          },
          "metadata": {}
        },
        {
          "output_type": "display_data",
          "data": {
            "text/plain": [
              "<Figure size 640x480 with 0 Axes>"
            ]
          },
          "metadata": {}
        }
      ]
    },
    {
      "cell_type": "code",
      "source": [
        "def generate_text(seed_text, next_words, model, max_sequence_len):\n",
        "    for _ in range(next_words):\n",
        "        token_list = tokenizer.texts_to_sequences([seed_text])[0]\n",
        "        token_list = pad_sequences([token_list], maxlen=max_sequence_len-1, padding='pre')\n",
        "        predicted = np.argmax(model.predict(token_list, verbose=0),axis=-1)\n",
        "        # np.argmax(model.predict(x_test), axis=-1)\n",
        "        # print(predicted)\n",
        "        output_word = \"\"\n",
        "        for word,index in tokenizer.word_index.items():\n",
        "            if index == predicted:\n",
        "                output_word = word\n",
        "                break\n",
        "        seed_text += \" \"+output_word\n",
        "    return seed_text.title()\n",
        "\n",
        "print (generate_text(\"Alice was beginning\", 20, model, max_sequence_len))"
      ],
      "metadata": {
        "colab": {
          "base_uri": "https://localhost:8080/"
        },
        "id": "2URR8pBXhVfV",
        "outputId": "05f11510-d932-487d-97b1-37825f72dc6b"
      },
      "execution_count": null,
      "outputs": [
        {
          "output_type": "stream",
          "name": "stdout",
          "text": [
            "Alice Was Beginning To Get Very Tired Of Sitting By Her Sister On The Locks Were Surprised That Which Might Not Left Larger\n"
          ]
        }
      ]
    },
    {
      "cell_type": "code",
      "source": [
        "import matplotlib.pyplot as plt\n",
        "acc = history_LSTM.history['accuracy']\n",
        "val_acc = history_LSTM.history['val_accuracy']\n",
        "# loss = history.history['loss']\n",
        "epochs = range(len(acc))\n",
        "# plt.plot(epochs, acc, 'b', label='Training accuracy')\n",
        "plt.plot(epochs, acc, 'b', label='Training accuracy',color = \"blue\")\n",
        "plt.plot(epochs, val_acc, 'b', label='Validation accuracy',color = \"green\")\n",
        "\n",
        "plt.title('Training and Validation accuracy')\n",
        "plt.xlabel(\" Epoch \")\n",
        "plt.ylabel(\" Accuracy \")\n",
        "plt.legend()\n",
        "\n",
        "plt.savefig('LSTM_Accuracy.png', format='png')\n",
        "plt.figure()\n",
        "\n"
      ],
      "metadata": {
        "id": "dMpqJx3lRm0l",
        "colab": {
          "base_uri": "https://localhost:8080/",
          "height": 235
        },
        "outputId": "a35acb9e-14ea-40d5-d78e-e4e2d0cb1d6b"
      },
      "execution_count": null,
      "outputs": [
        {
          "output_type": "error",
          "ename": "KeyError",
          "evalue": "ignored",
          "traceback": [
            "\u001b[0;31m---------------------------------------------------------------------------\u001b[0m",
            "\u001b[0;31mKeyError\u001b[0m                                  Traceback (most recent call last)",
            "\u001b[0;32m<ipython-input-17-8d080fbda293>\u001b[0m in \u001b[0;36m<cell line: 3>\u001b[0;34m()\u001b[0m\n\u001b[1;32m      1\u001b[0m \u001b[0;32mimport\u001b[0m \u001b[0mmatplotlib\u001b[0m\u001b[0;34m.\u001b[0m\u001b[0mpyplot\u001b[0m \u001b[0;32mas\u001b[0m \u001b[0mplt\u001b[0m\u001b[0;34m\u001b[0m\u001b[0;34m\u001b[0m\u001b[0m\n\u001b[1;32m      2\u001b[0m \u001b[0macc\u001b[0m \u001b[0;34m=\u001b[0m \u001b[0mhistory_LSTM\u001b[0m\u001b[0;34m.\u001b[0m\u001b[0mhistory\u001b[0m\u001b[0;34m[\u001b[0m\u001b[0;34m'accuracy'\u001b[0m\u001b[0;34m]\u001b[0m\u001b[0;34m\u001b[0m\u001b[0;34m\u001b[0m\u001b[0m\n\u001b[0;32m----> 3\u001b[0;31m \u001b[0mval_acc\u001b[0m \u001b[0;34m=\u001b[0m \u001b[0mhistory_LSTM\u001b[0m\u001b[0;34m.\u001b[0m\u001b[0mhistory\u001b[0m\u001b[0;34m[\u001b[0m\u001b[0;34m'val_accuracy'\u001b[0m\u001b[0;34m]\u001b[0m\u001b[0;34m\u001b[0m\u001b[0;34m\u001b[0m\u001b[0m\n\u001b[0m\u001b[1;32m      4\u001b[0m \u001b[0;31m# loss = history.history['loss']\u001b[0m\u001b[0;34m\u001b[0m\u001b[0;34m\u001b[0m\u001b[0m\n\u001b[1;32m      5\u001b[0m \u001b[0mepochs\u001b[0m \u001b[0;34m=\u001b[0m \u001b[0mrange\u001b[0m\u001b[0;34m(\u001b[0m\u001b[0mlen\u001b[0m\u001b[0;34m(\u001b[0m\u001b[0macc\u001b[0m\u001b[0;34m)\u001b[0m\u001b[0;34m)\u001b[0m\u001b[0;34m\u001b[0m\u001b[0;34m\u001b[0m\u001b[0m\n",
            "\u001b[0;31mKeyError\u001b[0m: 'val_accuracy'"
          ]
        }
      ]
    },
    {
      "cell_type": "code",
      "source": [
        "# import matplotlib.pyplot as plt\n",
        "from keras.utils.vis_utils import plot_model\n",
        "plot_model(model, to_file='model_plot.png', show_shapes=True, show_layer_names=True)"
      ],
      "metadata": {
        "id": "ILvHRVqwHTFc"
      },
      "execution_count": null,
      "outputs": []
    },
    {
      "cell_type": "code",
      "source": [
        "model_bi = Sequential()\n",
        "model_bi.add(Embedding(total_words, 580, input_length=max_sequence_len-1))\n",
        "model_bi.add(Bidirectional(LSTM(250, return_sequences = True)))\n",
        "model_bi.add(Dropout(0.2))\n",
        "model_bi.add(LSTM(180))\n",
        "model_bi.add(Dense(total_words/2, activation='relu', kernel_regularizer=regularizers.l2(0.01)))\n",
        "model_bi.add(Dense(total_words, activation='softmax'))\n",
        "model_bi.compile(loss='categorical_crossentropy', optimizer='adam', metrics=['accuracy'])\n",
        "print(model_bi.summary())"
      ],
      "metadata": {
        "id": "aJso8q49JJ9X"
      },
      "execution_count": null,
      "outputs": []
    },
    {
      "cell_type": "code",
      "source": [
        "# 183/183 [==============================] - 63s 346ms/step - loss: 0.9149 - accuracy: 0.8683\n",
        "# history_BI_LSTM = model_bi.fit(predictors, label, epochs=80, validation_split=0.15, verbose=1)\n",
        "history_BI_LSTM = model_bi.fit(predictors, label, epochs=80, verbose=1)\n"
      ],
      "metadata": {
        "id": "pcBF9HOt9JRT"
      },
      "execution_count": null,
      "outputs": []
    },
    {
      "cell_type": "code",
      "source": [
        "import matplotlib.pyplot as plt\n",
        "acc = history_BI_LSTM.history['accuracy']\n",
        "# loss = history_BI_LSTM.history['loss']\n",
        "epochs = range(len(acc))\n",
        "# plt.plot(epochs, acc, 'b', label='Training accuracy')\n",
        "plt.plot(epochs, acc, 'b', label='Training accuracy',color = \"green\")\n",
        "# plt.plot(epochs, loss, 'b', label='Training Loss',color = \"red\")\n",
        "\n",
        "plt.title('Bi-directional LSTM Training Accuracy')\n",
        "plt.xlabel(\" Epoch \")\n",
        "plt.ylabel(\" Accuracy \")\n",
        "plt.legend()\n",
        "\n",
        "plt.savefig('Accuracy_Bi_LSTM.png', format='png')\n",
        "plt.figure()\n",
        "\n"
      ],
      "metadata": {
        "id": "HubVN784bqbi"
      },
      "execution_count": null,
      "outputs": []
    },
    {
      "cell_type": "code",
      "source": [
        "import matplotlib.pyplot as plt\n",
        "# acc = history_BI_LSTM.history['accuracy']\n",
        "loss = history_BI_LSTM.history['loss']\n",
        "epochs = range(len(acc))\n",
        "# plt.plot(epochs, acc, 'b', label='Training accuracy')\n",
        "# plt.plot(epochs, acc, 'b', label='Training accuracy',color = \"green\")\n",
        "plt.plot(epochs, loss, 'b', label='Training Loss',color = \"red\")\n",
        "\n",
        "# plt.title('Training accuracy')\n",
        "plt.title('Bi-directional LSTM Training loss')\n",
        "plt.xlabel(\" Epoch \")\n",
        "plt.ylabel(\" Loss \")\n",
        "plt.legend()\n",
        "\n",
        "plt.savefig('loss_Bi_LSTM.png', format='png')\n",
        "plt.figure()\n",
        "\n"
      ],
      "metadata": {
        "id": "EGR2E5wgcDdd"
      },
      "execution_count": null,
      "outputs": []
    },
    {
      "cell_type": "code",
      "source": [
        "def generate_text(seed_text, next_words, model, max_sequence_len):\n",
        "    for _ in range(next_words):\n",
        "        token_list = tokenizer.texts_to_sequences([seed_text])[0]\n",
        "        token_list = pad_sequences([token_list], maxlen=max_sequence_len-1, padding='pre')\n",
        "        predicted = np.argmax(model.predict(token_list, verbose=0),axis=-1)\n",
        "        # np.argmax(model.predict(x_test), axis=-1)\n",
        "        # print(predicted)\n",
        "        output_word = \"\"\n",
        "        for word,index in tokenizer.word_index.items():\n",
        "            if index == predicted:\n",
        "                output_word = word\n",
        "                break\n",
        "        seed_text += \" \"+output_word\n",
        "    return seed_text.title()\n",
        "\n",
        "print (generate_text(\"Alice was beginning\", 20, model_bi, max_sequence_len))"
      ],
      "metadata": {
        "id": "9VPuEWzrhLyi"
      },
      "execution_count": null,
      "outputs": []
    },
    {
      "cell_type": "code",
      "source": [
        "model_rnn = Sequential()\n",
        "model_rnn.add(Embedding(total_words, 580, input_length=max_sequence_len-1))\n",
        "model_rnn.add(SimpleRNN(120, return_sequences = True))\n",
        "model_rnn.add(Dropout(0.2))\n",
        "model_rnn.add(SimpleRNN(180))\n",
        "model_rnn.add(Dense(total_words/2, activation='relu', kernel_regularizer=regularizers.l2(0.01)))\n",
        "model_rnn.add(Dense(total_words, activation='softmax'))\n",
        "model_rnn.compile(loss='categorical_crossentropy', optimizer='adam', metrics=['accuracy'])\n",
        "print(model_rnn.summary())"
      ],
      "metadata": {
        "id": "I836V0laiU5k"
      },
      "execution_count": null,
      "outputs": []
    },
    {
      "cell_type": "code",
      "source": [
        "history_RNN = model_rnn.fit(predictors, label, epochs=80, verbose=1)"
      ],
      "metadata": {
        "id": "ZMl5JIAWjL5V"
      },
      "execution_count": null,
      "outputs": []
    },
    {
      "cell_type": "code",
      "source": [
        "import matplotlib.pyplot as plt\n",
        "acc = history_RNN.history['accuracy']\n",
        "# loss = history_RNN.history['loss']\n",
        "epochs = range(len(acc))\n",
        "# plt.plot(epochs, acc, 'b', label='Training accuracy')\n",
        "plt.plot(epochs, acc, 'b', label='Training accuracy',color = \"green\")\n",
        "# plt.plot(epochs, loss, 'b', label='Training Loss',color = \"red\")\n",
        "\n",
        "plt.title('RNN Training Accuracy')\n",
        "# plt.title('Training loss')\n",
        "plt.xlabel(\" Epoch \")\n",
        "plt.ylabel(\" Accuracy \")\n",
        "plt.legend()\n",
        "\n",
        "plt.savefig('Accuracy_RNN.png', format='png')\n",
        "plt.figure()\n",
        "\n"
      ],
      "metadata": {
        "id": "xh4BRxXTcNqS"
      },
      "execution_count": null,
      "outputs": []
    },
    {
      "cell_type": "code",
      "source": [
        "import matplotlib.pyplot as plt\n",
        "# acc = history_RNN.history['accuracy']\n",
        "loss = history_RNN.history['loss']\n",
        "epochs = range(len(acc))\n",
        "# plt.plot(epochs, acc, 'b', label='Training accuracy')\n",
        "# plt.plot(epochs, acc, 'b', label='Training accuracy',color = \"green\")\n",
        "plt.plot(epochs, loss, 'b', label='Training Loss',color = \"red\")\n",
        "\n",
        "# plt.title('Training accuracy')\n",
        "plt.title('RNN Training Loss')\n",
        "plt.xlabel(\" Epoch \")\n",
        "# plt.ylabel(\" Accuracy \")\n",
        "plt.ylabel(\" Loss \")\n",
        "plt.legend()\n",
        "\n",
        "plt.savefig('Loss_RNN.png', format='png')\n",
        "plt.figure()\n",
        "\n"
      ],
      "metadata": {
        "id": "hFLKOaKFccpp"
      },
      "execution_count": null,
      "outputs": []
    },
    {
      "cell_type": "code",
      "source": [
        "def generate_text(seed_text, next_words, model, max_sequence_len):\n",
        "    for _ in range(next_words):\n",
        "        token_list = tokenizer.texts_to_sequences([seed_text])[0]\n",
        "        token_list = pad_sequences([token_list], maxlen=max_sequence_len-1, padding='pre')\n",
        "        predicted = np.argmax(model.predict(token_list, verbose=0),axis=-1)\n",
        "        # np.argmax(model.predict(x_test), axis=-1)\n",
        "        # print(predicted)\n",
        "        output_word = \"\"\n",
        "        for word,index in tokenizer.word_index.items():\n",
        "            if index == predicted:\n",
        "                output_word = word\n",
        "                break\n",
        "        seed_text += \" \"+output_word\n",
        "    return seed_text.title()\n",
        "\n",
        "print (generate_text(\"Alice was beginning\", 20, model_rnn, max_sequence_len))"
      ],
      "metadata": {
        "id": "P5a3ASMBhA-n"
      },
      "execution_count": null,
      "outputs": []
    },
    {
      "cell_type": "code",
      "source": [
        "model_gru = Sequential()\n",
        "model_gru.add(Embedding(total_words, 580, input_length=max_sequence_len-1))\n",
        "model_gru.add(GRU(250, return_sequences = True))\n",
        "model_gru.add(Dropout(0.2))\n",
        "model_gru.add(GRU(180))\n",
        "model_gru.add(Dense(total_words/2, activation='relu', kernel_regularizer=regularizers.l2(0.01)))\n",
        "model_gru.add(Dense(total_words, activation='softmax'))\n",
        "model_gru.compile(loss='categorical_crossentropy', optimizer='adam', metrics=['accuracy'])\n",
        "print(model_gru.summary())"
      ],
      "metadata": {
        "id": "lRJHq45kS2z3"
      },
      "execution_count": null,
      "outputs": []
    },
    {
      "cell_type": "code",
      "source": [
        "history_GRU = model_gru.fit(predictors, label, epochs=80, verbose=1)"
      ],
      "metadata": {
        "id": "EpjU_fJDS9b7"
      },
      "execution_count": null,
      "outputs": []
    },
    {
      "cell_type": "code",
      "source": [
        "import matplotlib.pyplot as plt\n",
        "acc = history_GRU.history['accuracy']\n",
        "# loss = history_GRU.history['loss']\n",
        "epochs = range(len(acc))\n",
        "# plt.plot(epochs, acc, 'b', label='Training accuracy')\n",
        "plt.plot(epochs, acc, 'b', label='Training accuracy',color = \"green\")\n",
        "# plt.plot(epochs, loss, 'b', label='Training Loss',color = \"red\")\n",
        "\n",
        "plt.title('GRU Training Accuracy')\n",
        "# plt.title('Training loss')\n",
        "plt.xlabel(\" Epoch \")\n",
        "plt.ylabel(\" Accuracy \")\n",
        "# plt.ylabel(\" Loss \")\n",
        "plt.legend()\n",
        "\n",
        "plt.savefig('Accuracy_GRU.png', format='png')\n",
        "# plt.savefig('Loss_RNN.png', format='png')\n",
        "plt.figure()\n",
        "\n"
      ],
      "metadata": {
        "id": "FIP95FDScrEd"
      },
      "execution_count": null,
      "outputs": []
    },
    {
      "cell_type": "code",
      "source": [
        "import matplotlib.pyplot as plt\n",
        "# acc = history_GRU.history['accuracy']\n",
        "loss = history_GRU.history['loss']\n",
        "epochs = range(len(acc))\n",
        "# plt.plot(epochs, acc, 'b', label='Training accuracy')\n",
        "# plt.plot(epochs, acc, 'b', label='Training accuracy',color = \"green\")\n",
        "plt.plot(epochs, loss, 'b', label='Training Loss',color = \"red\")\n",
        "\n",
        "# plt.title('Training accuracy')\n",
        "plt.title('GRU Training Loss')\n",
        "plt.xlabel(\" Epoch \")\n",
        "# plt.ylabel(\" Accuracy \")\n",
        "plt.ylabel(\" Loss \")\n",
        "plt.legend()\n",
        "\n",
        "# plt.savefig('Accuracy_GRU.png', format='png')\n",
        "plt.savefig('Loss_GRU.png', format='png')\n",
        "plt.figure()\n",
        "\n"
      ],
      "metadata": {
        "id": "Yx8xRsixc9gc"
      },
      "execution_count": null,
      "outputs": []
    },
    {
      "cell_type": "code",
      "source": [
        "def generate_text(seed_text, next_words, model, max_sequence_len):\n",
        "    for _ in range(next_words):\n",
        "        token_list = tokenizer.texts_to_sequences([seed_text])[0]\n",
        "        token_list = pad_sequences([token_list], maxlen=max_sequence_len-1, padding='pre')\n",
        "        predicted = np.argmax(model.predict(token_list, verbose=0),axis=-1)\n",
        "        # np.argmax(model.predict(x_test), axis=-1)\n",
        "        # print(predicted)\n",
        "        output_word = \"\"\n",
        "        for word,index in tokenizer.word_index.items():\n",
        "            if index == predicted:\n",
        "                output_word = word\n",
        "                break\n",
        "        seed_text += \" \"+output_word\n",
        "    return seed_text.title()\n",
        "\n",
        "print (generate_text(\"Alice was beginning\", 20, model_gru, max_sequence_len))"
      ],
      "metadata": {
        "id": "CzgGoRM9gnU_"
      },
      "execution_count": null,
      "outputs": []
    },
    {
      "cell_type": "code",
      "source": [
        "model_bi_gru = Sequential()\n",
        "model_bi_gru.add(Embedding(total_words, 580, input_length=max_sequence_len-1))\n",
        "model_bi_gru.add(Bidirectional(GRU(250, return_sequences = True)))\n",
        "model_bi_gru.add(Dropout(0.2))\n",
        "model_bi_gru.add(GRU(180))\n",
        "model_bi_gru.add(Dense(total_words/2, activation='relu', kernel_regularizer=regularizers.l2(0.01)))\n",
        "model_bi_gru.add(Dense(total_words, activation='softmax'))\n",
        "model_bi_gru.compile(loss='categorical_crossentropy', optimizer='adam', metrics=['accuracy'])\n",
        "print(model_bi_gru.summary())"
      ],
      "metadata": {
        "id": "VgEn-A5pVh09"
      },
      "execution_count": null,
      "outputs": []
    },
    {
      "cell_type": "code",
      "source": [
        "history__bi_GRU = model_bi_gru.fit(predictors, label, epochs=80, verbose=1)"
      ],
      "metadata": {
        "id": "5lYAANFFVrBM"
      },
      "execution_count": null,
      "outputs": []
    },
    {
      "cell_type": "code",
      "source": [
        "import matplotlib.pyplot as plt\n",
        "acc = history__bi_GRU.history['accuracy']\n",
        "# loss = history__bi_GRU.history['loss']\n",
        "epochs = range(len(acc))\n",
        "# plt.plot(epochs, acc, 'b', label='Training accuracy')\n",
        "plt.plot(epochs, acc, 'b', label='Training accuracy',color = \"green\")\n",
        "# plt.plot(epochs, loss, 'b', label='Training Loss',color = \"red\")\n",
        "\n",
        "plt.title('Bi-directional GRU Training Accuracy')\n",
        "# plt.title('Training loss')\n",
        "plt.xlabel(\" Epoch \")\n",
        "plt.ylabel(\" Accuracy \")\n",
        "# plt.ylabel(\" Loss \")\n",
        "plt.legend()\n",
        "\n",
        "plt.savefig('Accuracy_Bi_GRU.png', format='png')\n",
        "# plt.savefig('Loss_GRU.png', format='png')\n",
        "plt.figure()\n",
        "\n"
      ],
      "metadata": {
        "id": "nz3a79ZcdIUK"
      },
      "execution_count": null,
      "outputs": []
    },
    {
      "cell_type": "code",
      "source": [
        "import matplotlib.pyplot as plt\n",
        "# acc = history__bi_GRU.history['accuracy']\n",
        "loss = history__bi_GRU.history['loss']\n",
        "epochs = range(len(acc))\n",
        "# plt.plot(epochs, acc, 'b', label='Training accuracy')\n",
        "# plt.plot(epochs, acc, 'b', label='Training accuracy',color = \"green\")\n",
        "plt.plot(epochs, loss, 'b', label='Training Loss',color = \"red\")\n",
        "\n",
        "# plt.title('Training accuracy')\n",
        "plt.title('Bi-directional GRU Training Loss')\n",
        "plt.xlabel(\" Epoch \")\n",
        "# plt.ylabel(\" Accuracy \")\n",
        "plt.ylabel(\" Loss \")\n",
        "plt.legend()\n",
        "\n",
        "# plt.savefig('Accuracy_Bi_GRU.png', format='png')\n",
        "plt.savefig('Loss_bi_GRU.png', format='png')\n",
        "plt.figure()\n",
        "\n"
      ],
      "metadata": {
        "id": "SYjW-sxvdUpz"
      },
      "execution_count": null,
      "outputs": []
    },
    {
      "cell_type": "code",
      "source": [
        "seed_text = \" Alice was beginning  \"\n",
        "next_words = 10\n",
        "\n",
        "for _ in range(next_words):\n",
        "    token_list = tokenizer.texts_to_sequences([seed_text])[0]\n",
        "    token_list = pad_sequences([token_list], maxlen=max_sequence_len-1, padding='pre')\n",
        "    predicted = model_bi_gru.predict(token_list, verbose=0)\n",
        "    output_word = \"\"\n",
        "    for word, index in tokenizer.word_index.items():\n",
        "        if index == predicted:\n",
        "            output_word = word\n",
        "            break\n",
        "    seed_text += \" \" + output_word\n",
        "print(seed_text)\n"
      ],
      "metadata": {
        "id": "yJIhhYbsdhG_"
      },
      "execution_count": null,
      "outputs": []
    },
    {
      "cell_type": "code",
      "source": [
        "def generate_text(seed_text, next_words, model, max_sequence_len):\n",
        "    for _ in range(next_words):\n",
        "        token_list = tokenizer.texts_to_sequences([seed_text])[0]\n",
        "        token_list = pad_sequences([token_list], maxlen=max_sequence_len-1, padding='pre')\n",
        "        predicted = np.argmax(model.predict(token_list, verbose=0),axis=-1)\n",
        "        # np.argmax(model.predict(x_test), axis=-1)\n",
        "        # print(predicted)\n",
        "        output_word = \"\"\n",
        "        for word,index in tokenizer.word_index.items():\n",
        "            if index == predicted:\n",
        "                output_word = word\n",
        "                break\n",
        "        seed_text += \" \"+output_word\n",
        "    return seed_text.title()\n",
        "\n",
        "Alice Was Beginning To Get Very Tired Of Sitting By Her\n",
        " Sister On The Rats And Butter Is No Use In Good Terms\n"
      ],
      "metadata": {
        "id": "CC7prbxZfIY8"
      },
      "execution_count": null,
      "outputs": []
    },
    {
      "cell_type": "code",
      "source": [
        "print (generate_text(\"Alice was beginning\", 20, model_bi_gru, max_sequence_len))"
      ],
      "metadata": {
        "id": "lTeZus7bfNIX"
      },
      "execution_count": null,
      "outputs": []
    },
    {
      "cell_type": "code",
      "source": [
        "import matplotlib.pyplot as plt\n",
        "acc = history.history['accuracy']\n",
        "loss = history.history['loss']\n",
        "epochs = range(len(acc))\n",
        "# plt.plot(epochs, acc, 'b', label='Training accuracy')\n",
        "plt.plot(epochs, acc, 'b', label='Training accuracy',color = \"green\")\n",
        "plt.plot(epochs, loss, 'b', label='Training Loss',color = \"red\")\n",
        "\n",
        "plt.title('Training accuracy')\n",
        "plt.xlabel(\" Epoch \")\n",
        "plt.ylabel(\" Accuracy \")\n",
        "plt.legend()\n",
        "\n",
        "plt.savefig('Accuracy.png', format='png')\n",
        "plt.figure()\n",
        "\n"
      ],
      "metadata": {
        "id": "CQkZjpb19Kxn"
      },
      "execution_count": null,
      "outputs": []
    },
    {
      "cell_type": "code",
      "source": [
        "plt.plot(epochs, acc, 'b', label='Training accuracy',color = \"blue\")\n",
        "plt.plot(epochs, loss, 'b', label='Training Loss',color = \"red\")\n",
        "plt.title('Training loss')\n",
        "# plt.legend()\n",
        "plt.xlabel(\" Epoch \")\n",
        "plt.ylabel(\" Loss \")\n",
        "\n",
        "plt.savefig('loss.png', format='png')\n",
        "plt.show()"
      ],
      "metadata": {
        "id": "kWUtEM7qIFPP"
      },
      "execution_count": null,
      "outputs": []
    },
    {
      "cell_type": "code",
      "source": [
        "seed_text = \" We will make America safe again, and we will make America great again.\"\n",
        "next_words = 100\n"
      ],
      "metadata": {
        "id": "s3LL62An9MQt"
      },
      "execution_count": null,
      "outputs": []
    },
    {
      "cell_type": "code",
      "source": [
        "seed_text = \" We will make America safe again, and we will make America great again.\"\n",
        "next_words = 100\n",
        "\n",
        "for _ in range(next_words):\n",
        "    token_list = tokenizer.texts_to_sequences([seed_text])[0]\n",
        "    token_list = pad_sequences([token_list], maxlen=max_sequence_len-1, padding='pre')\n",
        "    predicted = model.predict(token_list, verbose=0)\n",
        "    output_word = \"\"\n",
        "    for word, index in tokenizer.word_index.items():\n",
        "      output_word = word\n",
        "        # if index == predicted:\n",
        "        #     output_word = word\n",
        "        #     break\n",
        "    seed_text += \" \" + output_word\n",
        "print(seed_text)\n",
        "\n",
        " We will make America safe again, and we will make America great again.\n",
        " completely completely completely completely completely completely completely\n"
      ],
      "metadata": {
        "id": "71R4vRmK9Nqx"
      },
      "execution_count": null,
      "outputs": []
    }
  ]
}